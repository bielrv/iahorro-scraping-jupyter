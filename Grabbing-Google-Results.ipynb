{
 "cells": [
  {
   "cell_type": "code",
   "execution_count": 1,
   "metadata": {},
   "outputs": [],
   "source": [
    "import requests\n",
    "from bs4 import BeautifulSoup"
   ]
  },
  {
   "cell_type": "markdown",
   "metadata": {},
   "source": [
    "# Grabbing Results From Google"
   ]
  },
  {
   "cell_type": "code",
   "execution_count": 2,
   "metadata": {},
   "outputs": [],
   "source": [
    "USER_AGENT = {'User-Agent':'Mozilla/5.0 (Windows NT 10.0; Win64; x64) AppleWebKit/537.36 (KHTML, like Gecko) Chrome/61.0.3163.100 Safari/537.36'}\n",
    "\n",
    "def fetch_results(search_term, number_results, language_code):\n",
    "    assert isinstance(search_term, str), 'Search term must be a string'\n",
    "    assert isinstance(number_results, int), 'Number of results must be an integer'\n",
    "    escaped_search_term = search_term.replace(' ', '+')\n",
    "\n",
    "    google_url = 'https://www.google.com/search?q={}&num={}&hl={}'.format(escaped_search_term, number_results, language_code)\n",
    "    response = requests.get(google_url, headers=USER_AGENT)\n",
    "    response.raise_for_status()\n",
    "\n",
    "    return search_term, response.text"
   ]
  },
  {
   "cell_type": "markdown",
   "metadata": {},
   "source": [
    "# Parsing the HTML"
   ]
  },
  {
   "cell_type": "code",
   "execution_count": 3,
   "metadata": {},
   "outputs": [],
   "source": [
    "import pandas as pd\n",
    "df = pd.read_csv('loans_aggregated.csv', delimiter=';',encoding='latin -1')\n",
    "loans_list = df.name\n",
    "# print(loans) "
   ]
  },
  {
   "cell_type": "code",
   "execution_count": 4,
   "metadata": {},
   "outputs": [
    {
     "name": "stdout",
     "output_type": "stream",
     "text": [
      "['https://www.crediclaro.es/', 'www.cetelem.es/Préstamo/Online', 'www.helpmycash.com/prestamos/online', 'dinero.gedescoche.es/dinero/coche', 'www.solcredito.es/credito/al-instante', 'www.solcredito.es/credito/al-instante', 'www.creditosrapidos365.com/', 'www.cofidis.es/credito/proyecto', 'www.cofidis.es/credito/proyecto', 'https://www.bankia.es › Particulares › Préstamos › Crédito Puedes Más', 'https://www.bankia.es › Particulares › Préstamos', 'www.bolsillolleno.com/', 'financiacion.gedesco.es/lineadeCredito/lineadescuento', 'www.bolsillolleno.com/', 'www.minicreditos365.com/QueBueno', 'www.bolsillolleno.com/', 'https://www.iahorro.com › Préstamos › Préstamos rápidos', 'www.creditosrapidosnuevos.es/', 'www.prestamosonlineya.es/micro_préstamos/online', 'www.helpmycash.com/prestamos/online', 'www.abanca.com/', 'www.prestamosonlineya.es/préstamos/hasta_750€', 'www.bancsabadell.com/prestamos/contrata-ahora', 'www.bancsabadell.com/prestamos/contrata-ahora', 'www.helpmycash.com/prestamos/online', 'www.cetelem.es/Préstamo/Online', 'www.bancsabadell.com/prestamos/contrata-ahora', 'www.solucioeconomica.cat/Préstamos/Mínimo_10000€', 'https://www.deutsche-bank.es › Particulares › Préstamos › Préstamos Personales', 'comparador.rastreator.com/Créditos/Personales', 'https://es.crosslend.com/', 'www.evofinance.com/Préstamo', 'www.bancsabadell.com/Préstamo/Expansión', 'www.bancsabadell.com/Préstamo/Expansión', 'www.solcredito.es/Préstamos/al-instante', 'www.solcredito.es/Préstamos/al-instante', 'www.ing.es/Hipoteca/NARANJA', 'https://www.ing.es/prestamos-personales/', 'www.solcredito.es/Préstamos/con-nomina', 'search.1and1.com/_resultados/Aqui_están', 'www.tarjetas-online.net/tarjeta/credito', 'www.bancsabadell.com/prestamos/contrata-ahora', 'www.bancsabadell.com/prestamos/contrata-ahora', 'www.bancsabadell.com/prestamos/contrata-ahora', 'www.bancsabadell.com/prestamos/contrata-ahora', 'www.evofinance.com/Préstamo', 'www.bancsabadell.com/prestamos/contrata-ahora', 'www.bbva.es/Prestamo/Consumo', 'www.cetelem.es/Préstamo/Online', 'www.creditosrapidosnuevos.es/', 'www.solcredito.es/Préstamos/al-instante', 'https://www.bigbank.es/prestamo-verde/', 'https://wanna.es/', 'https://es.younited-credit.com/', 'www.helpmycash.com/prestamos/online', 'www.barnacredit.com/creditos/hipotecas']\n"
     ]
    }
   ],
   "source": [
    "urls=[]\n",
    "for loan_name in loans_list:\n",
    "    keyword, html = fetch_results(loan_name, 1, 'sp')\n",
    "    soup = BeautifulSoup(html, 'html.parser')\n",
    "    urls.append(soup.find('cite').text)\n",
    "print (urls)"
   ]
  }
 ],
 "metadata": {
  "kernelspec": {
   "display_name": "Python 3",
   "language": "python",
   "name": "python3"
  },
  "language_info": {
   "codemirror_mode": {
    "name": "ipython",
    "version": 3
   },
   "file_extension": ".py",
   "mimetype": "text/x-python",
   "name": "python",
   "nbconvert_exporter": "python",
   "pygments_lexer": "ipython3",
   "version": "3.6.4"
  }
 },
 "nbformat": 4,
 "nbformat_minor": 2
}
