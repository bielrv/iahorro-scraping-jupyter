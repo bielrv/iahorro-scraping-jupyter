{
 "cells": [
  {
   "cell_type": "markdown",
   "metadata": {},
   "source": [
    "# Web Scraping with Beautiful Soup"
   ]
  },
  {
   "cell_type": "code",
   "execution_count": 13,
   "metadata": {},
   "outputs": [],
   "source": [
    "import requests\n",
    "from requests import get\n",
    "\n",
    "from lxml import html\n",
    "\n",
    "from bs4 import BeautifulSoup\n",
    "\n",
    "import os"
   ]
  },
  {
   "cell_type": "code",
   "execution_count": 59,
   "metadata": {},
   "outputs": [
    {
     "name": "stdout",
     "output_type": "stream",
     "text": [
      "Comparamos los préstamos personales más baratos,sin líos, rápido y GRATIS\n"
     ]
    }
   ],
   "source": [
    "with open(r'C:\\Users\\Biel\\Downloads\\Comparador-de-prestamos-personales_iAhorro.html', \"r\", encoding=\"utf8\") as f:\n",
    "    html = f.read()\n",
    "\n",
    "soup = BeautifulSoup(html, features='lxml')\n",
    "print(soup.h1.text) "
   ]
  },
  {
   "cell_type": "code",
   "execution_count": 58,
   "metadata": {},
   "outputs": [],
   "source": [
    "lenders = soup.findAll('div',itemprop=\"itemListElement\")"
   ]
  },
  {
   "cell_type": "code",
   "execution_count": 65,
   "metadata": {},
   "outputs": [],
   "source": [
    "class loan:\n",
    "    name = \"\"\n",
    "    \n",
    "    min_amt = \"\"\n",
    "    max_amt = \"\"\n",
    "    \n",
    "    min_term = \"\"\n",
    "    max_term = \"\"\n",
    "    \n",
    "    min_installment = \"\"\n",
    "    min_interest = \"\"\n",
    "    \n",
    "    description = \"\"\n",
    "    channel= \"\"\n",
    "    \n",
    "    fee_study = \"\"\n",
    "    fee_openning = \"\"\n",
    "    fee_cancellation =\"\"\n",
    "    \n",
    "    asnef = \"\"\n",
    "    linked_prod = \"\"\n",
    "\n",
    "    def function(self):\n",
    "        print(\"This is a message inside the class.\")"
   ]
  },
  {
   "cell_type": "code",
   "execution_count": 145,
   "metadata": {},
   "outputs": [
    {
     "name": "stdout",
     "output_type": "stream",
     "text": [
      "[<div class=\"value col-xs-6\">\n",
      "<p>1.000€</p>\n",
      "</div>, <div class=\"value col-xs-6\">\n",
      "<p>40.000€</p>\n",
      "</div>, <div class=\"value col-xs-6\">\n",
      "<p><em style=\"font-size:14px;\">a consultar</em></p>\n",
      "</div>]\n",
      "1.000€\n",
      "40.000€\n"
     ]
    }
   ],
   "source": [
    "lender_sample = soup.find('div',id=\"resultados_producto_d_prestamo_younited_credit\")\n",
    "lender_sample.attrs['id'][22:]\n",
    "\n",
    "caracteristics1 = lender_sample.find('div',id=\"caracteristicas_bloque1\").findAll(class_=\"value col-xs-6\")\n",
    "print(caracteristics1)\n",
    "\n",
    "min_amt = caracteristics1[0].find('p').text.strip()\n",
    "print(min_amt)\n",
    "\n",
    "max_amt = caracteristics1[1].find('p').text.strip()\n",
    "print(max_amt)"
   ]
  },
  {
   "cell_type": "code",
   "execution_count": 146,
   "metadata": {},
   "outputs": [
    {
     "name": "stdout",
     "output_type": "stream",
     "text": [
      "[<div class=\"value col-xs-6\">\n",
      "<p>2 años</p>\n",
      "</div>, <div class=\"value col-xs-6\">\n",
      "<p>6 años</p>\n",
      "</div>, <div class=\"value col-xs-6\">\n",
      "<p><em style=\"font-size:14px;\">Indefinido</em></p>\n",
      "</div>]\n",
      "2 años\n",
      "6 años\n"
     ]
    }
   ],
   "source": [
    "lender_sample = soup.find('div',id=\"resultados_producto_d_prestamo_younited_credit\")\n",
    "lender_sample.attrs['id'][22:]\n",
    "\n",
    "caracteristics2 = lender_sample.find('div',id=\"caracteristicas_bloque2\").findAll(class_=\"value col-xs-6\")\n",
    "print(caracteristics2)\n",
    "\n",
    "min_term = caracteristics2[0].find('p').text.strip()\n",
    "print(min_term)\n",
    "\n",
    "max_term = caracteristics2[1].find('p').text.strip()\n",
    "print(max_term)"
   ]
  },
  {
   "cell_type": "code",
   "execution_count": 147,
   "metadata": {},
   "outputs": [
    {
     "name": "stdout",
     "output_type": "stream",
     "text": [
      "[<div class=\"value col-xs-4 text-left\">\n",
      "<p>6,08%</p>\n",
      "</div>, <div class=\"value col-xs-4 text-left\">\n",
      "<p>5,92%</p>\n",
      "</div>]\n",
      "6,08%\n",
      "5,92%\n"
     ]
    }
   ],
   "source": [
    "interests = lender_sample.findAll(class_=\"value col-xs-4 text-left\")\n",
    "print(interests)\n",
    "\n",
    "min_interest = interests[0].text.strip()\n",
    "print(min_interest)\n",
    "\n",
    "min_net_interest = interests[1].text.strip()\n",
    "print(min_net_interest)"
   ]
  },
  {
   "cell_type": "code",
   "execution_count": 148,
   "metadata": {},
   "outputs": [
    {
     "name": "stdout",
     "output_type": "stream",
     "text": [
      "[<div class=\"value col-xs-3 pleft-0 text-left\">\n",
      "<p>0%</p>\n",
      "</div>, <div class=\"value col-xs-3 pleft-0 text-left\">\n",
      "<p>2%</p>\n",
      "</div>, <div class=\"value col-xs-3 pleft-0 text-left\">\n",
      "<p>0%</p>\n",
      "</div>]\n",
      "0%\n",
      "2%\n",
      "0%\n"
     ]
    }
   ],
   "source": [
    "requirements = lender_sample.findAll(class_=\"value col-xs-3 pleft-0 text-left\")\n",
    "print(requirements)\n",
    "\n",
    "fee_study = requirements[0].text.strip()\n",
    "print(fee_study)\n",
    "\n",
    "fee_openning = requirements[1].text.strip()\n",
    "print(fee_openning)\n",
    "\n",
    "fee_cancellation = requirements[2].text.strip()\n",
    "print(fee_cancellation)"
   ]
  },
  {
   "cell_type": "code",
   "execution_count": 149,
   "metadata": {},
   "outputs": [
    {
     "name": "stdout",
     "output_type": "stream",
     "text": [
      "[<div class=\"col-xs-11 pleft-0\">Hasta 6 años</div>, <div class=\"col-xs-11 pleft-0\"> Préstamo sin aval</div>, <div class=\"col-xs-11 pleft-0\"> Sin productos vinculados</div>]\n",
      "Hasta 6 años\n",
      "Préstamo sin aval\n"
     ]
    }
   ],
   "source": [
    "requirements = lender_sample.findAll(class_=\"col-xs-11 pleft-0\")\n",
    "print(requirements)\n",
    "\n",
    "Feature1 = requirements[0].text.strip()\n",
    "print(Feature1)\n",
    "\n",
    "Feature2 = requirements[1].text.strip()\n",
    "print(Feature2)"
   ]
  },
  {
   "cell_type": "code",
   "execution_count": null,
   "metadata": {},
   "outputs": [],
   "source": [
    "loans=[]\n",
    "for div in lenders:\n",
    "    loan = {'name':div.attrs['id'][22:]}\n",
    "    loans.append(loan)\n",
    "loans"
   ]
  }
 ],
 "metadata": {
  "kernelspec": {
   "display_name": "Python 3",
   "language": "python",
   "name": "python3"
  },
  "language_info": {
   "codemirror_mode": {
    "name": "ipython",
    "version": 3
   },
   "file_extension": ".py",
   "mimetype": "text/x-python",
   "name": "python",
   "nbconvert_exporter": "python",
   "pygments_lexer": "ipython3",
   "version": "3.6.4"
  }
 },
 "nbformat": 4,
 "nbformat_minor": 2
}
