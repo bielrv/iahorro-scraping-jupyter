{
 "cells": [
  {
   "cell_type": "markdown",
   "metadata": {},
   "source": [
    "# Web Scraping with Beautiful Soup"
   ]
  },
  {
   "cell_type": "code",
   "execution_count": 1,
   "metadata": {},
   "outputs": [],
   "source": [
    "import requests\n",
    "from requests import get\n",
    "from lxml import html\n",
    "from bs4 import BeautifulSoup\n",
    "import os\n",
    "import csv"
   ]
  },
  {
   "cell_type": "code",
   "execution_count": 2,
   "metadata": {},
   "outputs": [
    {
     "name": "stdout",
     "output_type": "stream",
     "text": [
      "Comparamos los préstamos personales más baratos,sin líos, rápido y GRATIS\n"
     ]
    }
   ],
   "source": [
    "with open(r'C:\\Users\\Biel\\Desktop\\Jupyter - projects\\scraping-jupyter\\Comparador-de-prestamos-personales_iAhorro.html', \"r\", encoding=\"utf8\") as f:\n",
    "    html = f.read()\n",
    "\n",
    "soup = BeautifulSoup(html, features='lxml')\n",
    "print(soup.h1.text) "
   ]
  },
  {
   "cell_type": "code",
   "execution_count": 3,
   "metadata": {},
   "outputs": [],
   "source": [
    "lenders = soup.findAll('div',itemprop=\"itemListElement\")"
   ]
  },
  {
   "cell_type": "code",
   "execution_count": 4,
   "metadata": {},
   "outputs": [
    {
     "data": {
      "text/plain": [
       "'prestamo_younited_credit'"
      ]
     },
     "execution_count": 4,
     "metadata": {},
     "output_type": "execute_result"
    }
   ],
   "source": [
    "lender_sample = soup.find('div',id=\"resultados_producto_d_prestamo_younited_credit\")\n",
    "lender_sample.attrs['id'][22:]"
   ]
  },
  {
   "cell_type": "code",
   "execution_count": 5,
   "metadata": {},
   "outputs": [
    {
     "name": "stdout",
     "output_type": "stream",
     "text": [
      "1.000€\n",
      "40.000€\n"
     ]
    }
   ],
   "source": [
    "caracteristics1 = lender_sample.find('div',id=\"caracteristicas_bloque1\").findAll(class_=\"value col-xs-6\")\n",
    "# print(caracteristics1)\n",
    "\n",
    "min_amt = caracteristics1[0].find('p').text.strip()\n",
    "print(min_amt)\n",
    "\n",
    "max_amt = caracteristics1[1].find('p').text.strip()\n",
    "print(max_amt)"
   ]
  },
  {
   "cell_type": "code",
   "execution_count": 6,
   "metadata": {},
   "outputs": [
    {
     "name": "stdout",
     "output_type": "stream",
     "text": [
      "2 años\n",
      "6 años\n"
     ]
    }
   ],
   "source": [
    "caracteristics2 = lender_sample.find('div',id=\"caracteristicas_bloque2\").findAll(class_=\"value col-xs-6\")\n",
    "# print(caracteristics2)\n",
    "\n",
    "min_term = caracteristics2[0].find('p').text.strip()\n",
    "print(min_term)\n",
    "\n",
    "max_term = caracteristics2[1].find('p').text.strip()\n",
    "print(max_term)"
   ]
  },
  {
   "cell_type": "code",
   "execution_count": 7,
   "metadata": {},
   "outputs": [
    {
     "name": "stdout",
     "output_type": "stream",
     "text": [
      "6,08%\n",
      "5,92%\n"
     ]
    }
   ],
   "source": [
    "interests = lender_sample.findAll(class_=\"value col-xs-4 text-left\")\n",
    "# print(interests)\n",
    "\n",
    "min_interest = interests[0].text.strip()\n",
    "print(min_interest)\n",
    "\n",
    "min_net_interest = interests[1].text.strip()\n",
    "print(min_net_interest)"
   ]
  },
  {
   "cell_type": "code",
   "execution_count": 8,
   "metadata": {},
   "outputs": [
    {
     "name": "stdout",
     "output_type": "stream",
     "text": [
      "0%\n",
      "2%\n",
      "0%\n"
     ]
    }
   ],
   "source": [
    "requirements = lender_sample.findAll(class_=\"value col-xs-3 pleft-0 text-left\")\n",
    "# print(requirements)\n",
    "\n",
    "fee_study = requirements[0].text.strip()\n",
    "print(fee_study)\n",
    "\n",
    "fee_openning = requirements[1].text.strip()\n",
    "print(fee_openning)\n",
    "\n",
    "fee_cancellation = requirements[2].text.strip()\n",
    "print(fee_cancellation)"
   ]
  },
  {
   "cell_type": "code",
   "execution_count": 9,
   "metadata": {},
   "outputs": [
    {
     "name": "stdout",
     "output_type": "stream",
     "text": [
      "Hasta 6 años\n",
      "Préstamo sin aval\n"
     ]
    }
   ],
   "source": [
    "features = lender_sample.findAll(class_=\"col-xs-11 pleft-0\")\n",
    "# print(features)\n",
    "\n",
    "Feature1 = features[0].text.strip()\n",
    "print(Feature1)\n",
    "\n",
    "Feature2 = features[1].text.strip()\n",
    "print(Feature2)"
   ]
  },
  {
   "cell_type": "markdown",
   "metadata": {},
   "source": [
    "# Scraping procedure"
   ]
  },
  {
   "cell_type": "code",
   "execution_count": 12,
   "metadata": {},
   "outputs": [],
   "source": [
    "loans=[]\n",
    "for div in lenders:\n",
    "    loan = {'name':div.attrs['id'][22:]}\n",
    "    \n",
    "    caracteristics1 = div.find('div',id=\"caracteristicas_bloque1\").findAll(class_=\"value col-xs-6\")\n",
    "    loan['min_amt']= caracteristics1[0].find('p').text.strip()\n",
    "    loan['max_amt']= caracteristics1[1].find('p').text.strip()\n",
    "    \n",
    "    caracteristics2 = div.find('div',id=\"caracteristicas_bloque2\").findAll(class_=\"value col-xs-6\")\n",
    "    loan['min_term']= caracteristics2[0].find('p').text.strip()\n",
    "    loan['max_term']= caracteristics2[1].find('p').text.strip()\n",
    "    \n",
    "    interests = div.findAll(class_=\"value col-xs-4 text-left\")\n",
    "    loan['min_interest'] = interests[0].text.strip()\n",
    "    loan['min_net_interest'] = interests[1].text.strip()\n",
    "    \n",
    "    features = div.findAll(class_=\"col-xs-11 pleft-0\")\n",
    "    loan['feature1']= features[0].text.strip()\n",
    "    loan['feature2']= features[1].text.strip()\n",
    "    \n",
    "    requirements = lender_sample.findAll(class_=\"value col-xs-3 pleft-0 text-left\")\n",
    "    loan['fee_study']= requirements[0].text.strip()\n",
    "    loan['fee_openning']= requirements[1].text.strip()\n",
    "    loan['fee_cancellation']= requirements[2].text.strip()\n",
    "\n",
    "    loans.append(loan)\n",
    "# loans"
   ]
  },
  {
   "cell_type": "markdown",
   "metadata": {},
   "source": [
    "# Creates CSV containing loans using DictWriter"
   ]
  },
  {
   "cell_type": "code",
   "execution_count": 11,
   "metadata": {},
   "outputs": [],
   "source": [
    "keys = loans[0].keys()\n",
    "with open('loans.csv', 'w') as output_file:\n",
    "    dict_writer = csv.DictWriter(output_file, keys)\n",
    "    dict_writer.writeheader()\n",
    "    dict_writer.writerows(loans)"
   ]
  },
  {
   "cell_type": "code",
   "execution_count": null,
   "metadata": {},
   "outputs": [],
   "source": []
  }
 ],
 "metadata": {
  "kernelspec": {
   "display_name": "Python 3",
   "language": "python",
   "name": "python3"
  },
  "language_info": {
   "codemirror_mode": {
    "name": "ipython",
    "version": 3
   },
   "file_extension": ".py",
   "mimetype": "text/x-python",
   "name": "python",
   "nbconvert_exporter": "python",
   "pygments_lexer": "ipython3",
   "version": "3.6.4"
  }
 },
 "nbformat": 4,
 "nbformat_minor": 2
}
